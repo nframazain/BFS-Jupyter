{
 "cells": [
  {
   "cell_type": "markdown",
   "metadata": {},
   "source": [
    "# My First Notebook Is This!\n",
    "# Mencari Jalur Terdekat menggunakan AI"
   ]
  },
  {
   "cell_type": "code",
   "execution_count": 5,
   "metadata": {},
   "outputs": [
    {
     "name": "stdout",
     "output_type": "stream",
     "text": [
      "['E', 'D', 'H']\n"
     ]
    }
   ],
   "source": [
    "peta = {'A': set (['B','H']),\n",
    "        'B': set (['A','C','H']),\n",
    "        'C': set (['B','D','E']),\n",
    "        'D': set (['C','E','F','G','H']),\n",
    "        'E': set (['C','D']),\n",
    "        'F': set (['D','G']),\n",
    "        'G': set (['D','F','H']),\n",
    "        'H': set (['A','B','D','G']),}\n",
    "\n",
    "def bfs_lintasan_terpendek(peta, start, tujuan):\n",
    "    explored = []\n",
    "    queue = [[start]]\n",
    "\n",
    "    if start == tujuan :\n",
    "        return \"Awal adalah Tujuan\"\n",
    "    \n",
    "    while queue :\n",
    "        line = queue.pop(0)\n",
    "        node = line[-1]\n",
    "\n",
    "        if node not in explored :\n",
    "            neighbours = peta[node]\n",
    "\n",
    "            for neighbour in neighbours :\n",
    "                line_baru = list(line)\n",
    "                line_baru.append(neighbour)\n",
    "                queue.append(line_baru)\n",
    "\n",
    "                if neighbour == tujuan :\n",
    "                    return line_baru\n",
    "            \n",
    "            explored.append(node)\n",
    "\n",
    "    return \"Mohon Maaf node yang Dipilih Tidak Ada\"\n",
    "\n",
    "start = input(\"Masukkan nilai awal : \")\n",
    "tujuan = input(\"Masukkan nilai akhir : \")\n",
    "\n",
    "print (bfs_lintasan_terpendek(peta, start, tujuan))"
   ]
  },
  {
   "cell_type": "code",
   "execution_count": null,
   "metadata": {},
   "outputs": [],
   "source": [
    "print('Hello World')"
   ]
  }
 ],
 "metadata": {
  "kernelspec": {
   "display_name": "Python 3",
   "language": "python",
   "name": "python3"
  },
  "language_info": {
   "codemirror_mode": {
    "name": "ipython",
    "version": 3
   },
   "file_extension": ".py",
   "mimetype": "text/x-python",
   "name": "python",
   "nbconvert_exporter": "python",
   "pygments_lexer": "ipython3",
   "version": "3.12.1"
  }
 },
 "nbformat": 4,
 "nbformat_minor": 2
}
